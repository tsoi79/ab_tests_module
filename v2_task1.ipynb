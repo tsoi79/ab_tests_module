{
 "cells": [
  {
   "cell_type": "code",
   "execution_count": 85,
   "metadata": {},
   "outputs": [],
   "source": [
    "import pandas as pd\n",
    "import numpy as np\n",
    "import matplotlib.pyplot as plt\n",
    "import seaborn as sns\n",
    "import scipy.stats as sps\n",
    "from IPython.core.display import display, HTML\n",
    "\n",
    "%matplotlib inline"
   ]
  },
  {
   "cell_type": "code",
   "execution_count": 86,
   "metadata": {},
   "outputs": [],
   "source": [
    "# стиль графиков\n",
    "sns.set(\n",
    "    rc = {'figure.figsize' : (8,4)},\n",
    "    style = 'whitegrid'\n",
    ")"
   ]
  },
  {
   "cell_type": "markdown",
   "metadata": {},
   "source": [
    "# Финальный проект. Вариант 2.\n",
    "\n",
    "## Задание 1. A/B–тестирование\n",
    "---\n",
    "### Условие\n",
    "\n",
    "Одной из основных задач аналитика в нашей команде является корректное проведение экспериментов. Для этого мы применяем метод A/B–тестирования. В ходе тестирования одной гипотезы целевой группе была предложена новая механика оплаты услуг на сайте, у контрольной группы оставалась базовая механика. В качестве задания вам необходимо проанализировать итоги эксперимента и сделать вывод, стоит ли запускать новую механику оплаты на всех пользователей.\n",
    "\n",
    "### Входные данные\n",
    "\n",
    "В качестве входных данных вы имеете 4 csv-файла:\n",
    "\n",
    "- groups.csv – файл с информацией о принадлежности пользователя к контрольной или экспериментальной группе (А – контроль, B – целевая группа) \n",
    "- groups_add.csv – дополнительный файл с пользователями, который вам прислали спустя 2 дня после передачи данных\n",
    "- active_studs.csv – файл с информацией о пользователях, которые зашли на платформу в дни проведения эксперимента. \n",
    "- checks.csv – файл с информацией об оплатах пользователей в дни проведения эксперимента. \n"
   ]
  },
  {
   "cell_type": "markdown",
   "metadata": {},
   "source": [
    "## Отчет по заданию 1.\n",
    "---\n",
    "\n",
    "## План исследования:\n",
    "\n",
    "### 1.1. Предобработка данных\n",
    "\n",
    "- 1.1.1. Загрузка данных в датафреймы\n",
    "- 1.1.2. Анализ информации о данных\n",
    "- 1.1.3. Сведение нужной информации в один датафрейм\n",
    "\n",
    "### 1.2. Выбор метрик для проведения анализа. Разведочный анализ данных.\n",
    "\n",
    "- 1.2.1. Формирование датафреймов контрольной и тестовой групп для исследования.\n",
    "- 1.2.2. Выбор анализируемых метрик.\n",
    "- 1.2.3. EDA и расчет метрик в контрольной и тестовой группах.\n",
    "\n",
    "### 1.3. Проверка гипотез.\n",
    "\n",
    "- 1.3.1. Выбор метода проверки для анализируемых метрик.\n",
    "- 1.3.2. Выполнение расчетов.\n",
    "\n",
    "### 1.4. Результаты исследования.\n",
    " \n",
    "---"
   ]
  },
  {
   "cell_type": "markdown",
   "metadata": {},
   "source": [
    "## 1.1. Предобработка данных"
   ]
  },
  {
   "cell_type": "markdown",
   "metadata": {},
   "source": [
    "### 1.1.1. сохраняем предоставленные таблицы в датафреймы:"
   ]
  },
  {
   "cell_type": "code",
   "execution_count": 87,
   "metadata": {},
   "outputs": [],
   "source": [
    "groups = pd.read_csv('groups.csv', sep = ';')\n",
    "groups_add = pd.read_csv('groups_add.csv', sep = ',')\n",
    "active_studs = pd.read_csv('active_studs.csv', sep = ';')\n",
    "checks = pd.read_csv('checks.csv', sep = ';')"
   ]
  },
  {
   "cell_type": "markdown",
   "metadata": {},
   "source": [
    "### 1.1.2. посмотрим информацию по созданным датафреймам:"
   ]
  },
  {
   "cell_type": "code",
   "execution_count": 88,
   "metadata": {},
   "outputs": [
    {
     "name": "stdout",
     "output_type": "stream",
     "text": [
      "<class 'pandas.core.frame.DataFrame'>\n",
      "RangeIndex: 74484 entries, 0 to 74483\n",
      "Data columns (total 2 columns):\n",
      " #   Column  Non-Null Count  Dtype \n",
      "---  ------  --------------  ----- \n",
      " 0   id      74484 non-null  int64 \n",
      " 1   grp     74484 non-null  object\n",
      "dtypes: int64(1), object(1)\n",
      "memory usage: 1.1+ MB\n"
     ]
    }
   ],
   "source": [
    "groups.info()"
   ]
  },
  {
   "cell_type": "code",
   "execution_count": 89,
   "metadata": {
    "scrolled": true
   },
   "outputs": [
    {
     "name": "stdout",
     "output_type": "stream",
     "text": [
      "<class 'pandas.core.frame.DataFrame'>\n",
      "RangeIndex: 92 entries, 0 to 91\n",
      "Data columns (total 2 columns):\n",
      " #   Column  Non-Null Count  Dtype \n",
      "---  ------  --------------  ----- \n",
      " 0   id      92 non-null     int64 \n",
      " 1   grp     92 non-null     object\n",
      "dtypes: int64(1), object(1)\n",
      "memory usage: 1.6+ KB\n"
     ]
    }
   ],
   "source": [
    "groups_add.info()"
   ]
  },
  {
   "cell_type": "code",
   "execution_count": 90,
   "metadata": {},
   "outputs": [
    {
     "name": "stdout",
     "output_type": "stream",
     "text": [
      "<class 'pandas.core.frame.DataFrame'>\n",
      "RangeIndex: 8341 entries, 0 to 8340\n",
      "Data columns (total 1 columns):\n",
      " #   Column      Non-Null Count  Dtype\n",
      "---  ------      --------------  -----\n",
      " 0   student_id  8341 non-null   int64\n",
      "dtypes: int64(1)\n",
      "memory usage: 65.3 KB\n"
     ]
    }
   ],
   "source": [
    "active_studs.info()"
   ]
  },
  {
   "cell_type": "code",
   "execution_count": 91,
   "metadata": {
    "scrolled": true
   },
   "outputs": [
    {
     "name": "stdout",
     "output_type": "stream",
     "text": [
      "<class 'pandas.core.frame.DataFrame'>\n",
      "RangeIndex: 541 entries, 0 to 540\n",
      "Data columns (total 2 columns):\n",
      " #   Column      Non-Null Count  Dtype  \n",
      "---  ------      --------------  -----  \n",
      " 0   student_id  541 non-null    int64  \n",
      " 1   rev         541 non-null    float64\n",
      "dtypes: float64(1), int64(1)\n",
      "memory usage: 8.6 KB\n"
     ]
    }
   ],
   "source": [
    "checks.info()"
   ]
  },
  {
   "cell_type": "code",
   "execution_count": 92,
   "metadata": {},
   "outputs": [
    {
     "name": "stdout",
     "output_type": "stream",
     "text": [
      "<class 'pandas.core.frame.DataFrame'>\n",
      "Int64Index: 74576 entries, 0 to 91\n",
      "Data columns (total 2 columns):\n",
      " #   Column  Non-Null Count  Dtype \n",
      "---  ------  --------------  ----- \n",
      " 0   id      74576 non-null  int64 \n",
      " 1   grp     74576 non-null  object\n",
      "dtypes: int64(1), object(1)\n",
      "memory usage: 1.7+ MB\n"
     ]
    }
   ],
   "source": [
    "# присоединим таблицу с дополнительным данными groups_add к основной таблице groups\n",
    "groups = pd.concat([groups, groups_add])\n",
    "groups.info()"
   ]
  },
  {
   "cell_type": "markdown",
   "metadata": {},
   "source": [
    "Пропусков в данных нет.\n",
    "\n",
    "Проверим, являются ли id пользователей уникальными (т.е. убедимся, что в каждой из таблиц по каждому из пользователей есть только одна запись). Для этого сравним количество записей в колонке `id` (или `student_id`)и количество уникальных записей из этой же колонки. \n",
    "\n",
    "Если результаты одинаковы - значит, все записи в колонке уникальны.\n",
    "\n",
    "Напишем для этого простую функцию `is_unique`"
   ]
  },
  {
   "cell_type": "code",
   "execution_count": 93,
   "metadata": {},
   "outputs": [],
   "source": [
    "# Функция определяет, являются ли уникальными записи в первой колонке датафрейма (индекс колонки [0])\n",
    "def is_unique (data):\n",
    "    a = data.iloc[:,0].count()\n",
    "    b = data.iloc[:,0].nunique()\n",
    "    if a != b:\n",
    "        return False\n",
    "    else:\n",
    "        return True"
   ]
  },
  {
   "cell_type": "markdown",
   "metadata": {},
   "source": [
    "Если повторения есть, сообщение об этом сделаем более крупным и красного цвета, а также выведем список is_uniq, в котором позиция значения False соответствует таблице, имеющей повторения."
   ]
  },
  {
   "cell_type": "code",
   "execution_count": 94,
   "metadata": {
    "scrolled": true
   },
   "outputs": [
    {
     "data": {
      "text/html": [
       "<font color=\"green\"> Все значения id в таблицах уникальны </font>"
      ],
      "text/plain": [
       "<IPython.core.display.HTML object>"
      ]
     },
     "metadata": {},
     "output_type": "display_data"
    }
   ],
   "source": [
    "is_uniq=[]\n",
    "is_uniq.extend([is_unique(groups), is_unique(active_studs), is_unique(checks)])\n",
    "\n",
    "if all(is_uniq):\n",
    "    display(HTML('<font color=\"green\"> Все значения id в таблицах уникальны </font>'))\n",
    "else:\n",
    "    display(HTML('<font color=\"red\", size=6> В одной из таблиц есть повторяющиеся id! </font>'))\n",
    "    print(is_uniq)\n",
    "    "
   ]
  },
  {
   "cell_type": "markdown",
   "metadata": {},
   "source": [
    "### 1.1.3. Сведение нужной информации в один датафрейм\n",
    "\n",
    "Сведем информацию из таблиц в единый датафрейм `stud_info`. \n",
    "\n",
    "Выполним дважды `left join`, соединяя последовательно таблицы `groups`, `active_studs` и `checks`.\n",
    "\n",
    "Тогда в итоговую таблицу попадут все пользователи из таблицы `groups`. При этом пользователи, которые были НЕ активны, также присоединятся, но в колонке `student_id` у них будет значение `NaN`. \n",
    "\n",
    "После присоединения таблицы `checks` переименуем колонку `student_id_x` (она присоединилась из таблицы `active_studs`) в `is_active` и дропнем колонку с id студентов этой колонки, оставим только значения чеков."
   ]
  },
  {
   "cell_type": "code",
   "execution_count": 95,
   "metadata": {},
   "outputs": [
    {
     "data": {
      "text/html": [
       "<div>\n",
       "<style scoped>\n",
       "    .dataframe tbody tr th:only-of-type {\n",
       "        vertical-align: middle;\n",
       "    }\n",
       "\n",
       "    .dataframe tbody tr th {\n",
       "        vertical-align: top;\n",
       "    }\n",
       "\n",
       "    .dataframe thead th {\n",
       "        text-align: right;\n",
       "    }\n",
       "</style>\n",
       "<table border=\"1\" class=\"dataframe\">\n",
       "  <thead>\n",
       "    <tr style=\"text-align: right;\">\n",
       "      <th></th>\n",
       "      <th>id</th>\n",
       "      <th>grp</th>\n",
       "      <th>is_active</th>\n",
       "      <th>rev</th>\n",
       "    </tr>\n",
       "  </thead>\n",
       "  <tbody>\n",
       "    <tr>\n",
       "      <th>0</th>\n",
       "      <td>1489</td>\n",
       "      <td>B</td>\n",
       "      <td>NaN</td>\n",
       "      <td>NaN</td>\n",
       "    </tr>\n",
       "    <tr>\n",
       "      <th>1</th>\n",
       "      <td>1627</td>\n",
       "      <td>A</td>\n",
       "      <td>1627.0</td>\n",
       "      <td>990.0</td>\n",
       "    </tr>\n",
       "    <tr>\n",
       "      <th>2</th>\n",
       "      <td>1768</td>\n",
       "      <td>B</td>\n",
       "      <td>NaN</td>\n",
       "      <td>NaN</td>\n",
       "    </tr>\n",
       "    <tr>\n",
       "      <th>3</th>\n",
       "      <td>1783</td>\n",
       "      <td>B</td>\n",
       "      <td>NaN</td>\n",
       "      <td>NaN</td>\n",
       "    </tr>\n",
       "    <tr>\n",
       "      <th>4</th>\n",
       "      <td>1794</td>\n",
       "      <td>A</td>\n",
       "      <td>NaN</td>\n",
       "      <td>NaN</td>\n",
       "    </tr>\n",
       "  </tbody>\n",
       "</table>\n",
       "</div>"
      ],
      "text/plain": [
       "     id grp  is_active    rev\n",
       "0  1489   B        NaN    NaN\n",
       "1  1627   A     1627.0  990.0\n",
       "2  1768   B        NaN    NaN\n",
       "3  1783   B        NaN    NaN\n",
       "4  1794   A        NaN    NaN"
      ]
     },
     "execution_count": 95,
     "metadata": {},
     "output_type": "execute_result"
    }
   ],
   "source": [
    "stud_info=groups.merge(active_studs, how = 'left', left_on = 'id', right_on='student_id')\\\n",
    "    .merge(checks, how = 'left', left_on = 'id', right_on='student_id')\\\n",
    "    .rename(columns={'student_id_x':'is_active'})\\\n",
    "    .drop(['student_id_y'], axis=1)\n",
    "stud_info.head()"
   ]
  },
  {
   "cell_type": "code",
   "execution_count": 96,
   "metadata": {
    "scrolled": false
   },
   "outputs": [
    {
     "name": "stdout",
     "output_type": "stream",
     "text": [
      "<class 'pandas.core.frame.DataFrame'>\n",
      "Int64Index: 74576 entries, 0 to 74575\n",
      "Data columns (total 4 columns):\n",
      " #   Column     Non-Null Count  Dtype  \n",
      "---  ------     --------------  -----  \n",
      " 0   id         74576 non-null  int64  \n",
      " 1   grp        74576 non-null  object \n",
      " 2   is_active  8341 non-null   float64\n",
      " 3   rev        541 non-null    float64\n",
      "dtypes: float64(2), int64(1), object(1)\n",
      "memory usage: 2.8+ MB\n"
     ]
    }
   ],
   "source": [
    "# проверим, не потеряли ли мы данные при присоединении таблиц:\n",
    "stud_info.info()"
   ]
  },
  {
   "cell_type": "markdown",
   "metadata": {},
   "source": [
    "Количество не нулевых записей в колонке `rev` совпадает с количеством записей в таблице `checks`. Количество не нулевых записей в колонке `is_active` тоже совпадает с с количеством записей в таблице `active_studs`. Общее количество пользователей в полученном датафрейме равно сумме записей в таблицах `groups` и `groups_add`."
   ]
  },
  {
   "cell_type": "code",
   "execution_count": 97,
   "metadata": {},
   "outputs": [],
   "source": [
    "# для удобства заменим значения колонки is_active: \n",
    "# 1 - если пользователь был активен в период эксперимента, 0 - если не был активен.\n",
    "stud_info.is_active = stud_info.is_active.apply(lambda x: 1 if x > 0 else 0)"
   ]
  },
  {
   "cell_type": "code",
   "execution_count": 98,
   "metadata": {
    "scrolled": false
   },
   "outputs": [
    {
     "data": {
      "text/html": [
       "<div>\n",
       "<style scoped>\n",
       "    .dataframe tbody tr th:only-of-type {\n",
       "        vertical-align: middle;\n",
       "    }\n",
       "\n",
       "    .dataframe tbody tr th {\n",
       "        vertical-align: top;\n",
       "    }\n",
       "\n",
       "    .dataframe thead th {\n",
       "        text-align: right;\n",
       "    }\n",
       "</style>\n",
       "<table border=\"1\" class=\"dataframe\">\n",
       "  <thead>\n",
       "    <tr style=\"text-align: right;\">\n",
       "      <th></th>\n",
       "      <th>id</th>\n",
       "      <th>grp</th>\n",
       "      <th>is_active</th>\n",
       "      <th>rev</th>\n",
       "    </tr>\n",
       "  </thead>\n",
       "  <tbody>\n",
       "    <tr>\n",
       "      <th>0</th>\n",
       "      <td>1489</td>\n",
       "      <td>B</td>\n",
       "      <td>0</td>\n",
       "      <td>NaN</td>\n",
       "    </tr>\n",
       "    <tr>\n",
       "      <th>1</th>\n",
       "      <td>1627</td>\n",
       "      <td>A</td>\n",
       "      <td>1</td>\n",
       "      <td>990.0</td>\n",
       "    </tr>\n",
       "    <tr>\n",
       "      <th>2</th>\n",
       "      <td>1768</td>\n",
       "      <td>B</td>\n",
       "      <td>0</td>\n",
       "      <td>NaN</td>\n",
       "    </tr>\n",
       "    <tr>\n",
       "      <th>3</th>\n",
       "      <td>1783</td>\n",
       "      <td>B</td>\n",
       "      <td>0</td>\n",
       "      <td>NaN</td>\n",
       "    </tr>\n",
       "    <tr>\n",
       "      <th>4</th>\n",
       "      <td>1794</td>\n",
       "      <td>A</td>\n",
       "      <td>0</td>\n",
       "      <td>NaN</td>\n",
       "    </tr>\n",
       "  </tbody>\n",
       "</table>\n",
       "</div>"
      ],
      "text/plain": [
       "     id grp  is_active    rev\n",
       "0  1489   B          0    NaN\n",
       "1  1627   A          1  990.0\n",
       "2  1768   B          0    NaN\n",
       "3  1783   B          0    NaN\n",
       "4  1794   A          0    NaN"
      ]
     },
     "execution_count": 98,
     "metadata": {},
     "output_type": "execute_result"
    }
   ],
   "source": [
    "# посмотрим на результат:\n",
    "stud_info.head()"
   ]
  },
  {
   "cell_type": "code",
   "execution_count": 99,
   "metadata": {},
   "outputs": [],
   "source": [
    "# округлим значения выручки до 2 знаков после запятой:\n",
    "stud_info.rev = stud_info.rev.round(2)"
   ]
  },
  {
   "cell_type": "code",
   "execution_count": 100,
   "metadata": {},
   "outputs": [],
   "source": [
    "# избавимся от значений NaN\n",
    "stud_info.rev = stud_info.rev.fillna(0)"
   ]
  },
  {
   "cell_type": "code",
   "execution_count": 101,
   "metadata": {},
   "outputs": [],
   "source": [
    "# добавим категориальную колонку is_pay, чтобы отметить всех оплативших посетителей\n",
    "stud_info['is_pay'] = stud_info.rev.apply(lambda x: 1 if x > 0 else 0)"
   ]
  },
  {
   "cell_type": "code",
   "execution_count": 102,
   "metadata": {
    "scrolled": true
   },
   "outputs": [
    {
     "name": "stdout",
     "output_type": "stream",
     "text": [
      "<class 'pandas.core.frame.DataFrame'>\n",
      "Int64Index: 74576 entries, 0 to 74575\n",
      "Data columns (total 5 columns):\n",
      " #   Column     Non-Null Count  Dtype  \n",
      "---  ------     --------------  -----  \n",
      " 0   id         74576 non-null  int64  \n",
      " 1   grp        74576 non-null  object \n",
      " 2   is_active  74576 non-null  int64  \n",
      " 3   rev        74576 non-null  float64\n",
      " 4   is_pay     74576 non-null  int64  \n",
      "dtypes: float64(1), int64(3), object(1)\n",
      "memory usage: 3.4+ MB\n"
     ]
    }
   ],
   "source": [
    "stud_info.info()"
   ]
  },
  {
   "cell_type": "markdown",
   "metadata": {},
   "source": [
    "Таким образом, сформированный единый датафрейм stud_info можно использовать далее для анализа нужных показателей в контрольной и тестовой группах\n",
    "\n",
    "---"
   ]
  },
  {
   "cell_type": "markdown",
   "metadata": {},
   "source": [
    "## 1.2. Выбор метрик для проведения анализа. Разведочный анализ данных.\n",
    "\n",
    "### 1.2.1. Формирование датафреймов контрольной и тестовой групп для исследования."
   ]
  },
  {
   "cell_type": "code",
   "execution_count": 103,
   "metadata": {
    "scrolled": true
   },
   "outputs": [
    {
     "data": {
      "text/html": [
       "<div>\n",
       "<style scoped>\n",
       "    .dataframe tbody tr th:only-of-type {\n",
       "        vertical-align: middle;\n",
       "    }\n",
       "\n",
       "    .dataframe tbody tr th {\n",
       "        vertical-align: top;\n",
       "    }\n",
       "\n",
       "    .dataframe thead th {\n",
       "        text-align: right;\n",
       "    }\n",
       "</style>\n",
       "<table border=\"1\" class=\"dataframe\">\n",
       "  <thead>\n",
       "    <tr style=\"text-align: right;\">\n",
       "      <th></th>\n",
       "      <th>total</th>\n",
       "      <th>active</th>\n",
       "      <th>total_paing</th>\n",
       "    </tr>\n",
       "    <tr>\n",
       "      <th>grp</th>\n",
       "      <th></th>\n",
       "      <th></th>\n",
       "      <th></th>\n",
       "    </tr>\n",
       "  </thead>\n",
       "  <tbody>\n",
       "    <tr>\n",
       "      <th>A</th>\n",
       "      <td>14693</td>\n",
       "      <td>1538</td>\n",
       "      <td>107</td>\n",
       "    </tr>\n",
       "    <tr>\n",
       "      <th>B</th>\n",
       "      <td>59883</td>\n",
       "      <td>6803</td>\n",
       "      <td>434</td>\n",
       "    </tr>\n",
       "  </tbody>\n",
       "</table>\n",
       "</div>"
      ],
      "text/plain": [
       "     total  active  total_paing\n",
       "grp                            \n",
       "A    14693    1538          107\n",
       "B    59883    6803          434"
      ]
     },
     "execution_count": 103,
     "metadata": {},
     "output_type": "execute_result"
    }
   ],
   "source": [
    "# Посмотрим на количество пользователей по группам: общее количество, активные, платящие (из общего количества).\n",
    "stud_info \\\n",
    "    .groupby('grp') \\\n",
    "    .agg(total=('id', 'count'), active=('is_active', 'sum'), total_paing=('is_pay', 'sum'))"
   ]
  },
  {
   "cell_type": "markdown",
   "metadata": {},
   "source": [
    "Мы видим, что количество активных (т.е. заходивших на сайт в период эксперимента) пользователей существенно меньше того количества пользователей, которых мы включили в эксперимент, а также, что контрольная группа в несколько раз меньше тестовой.\n",
    "\n",
    "С одной стороны, те пользователи, которые включены в эксперимент в группы А и В и не заходили на сайт в период эксперимента, могут рассматриваться как пользователи, не имевшие доступа к новой механике оплаты услуг и условно их можно включить в контрольную группу.\n",
    "\n",
    "С другой стороны, мы не можем исключить влияния других факторов на этих пользователей - как давно они делали оплаты? Тестировались ли в этот момент другие изменения? \n",
    "\n",
    "Поэтому сформируем два датафрейма по группам, в которые войдут только активные пользователи."
   ]
  },
  {
   "cell_type": "code",
   "execution_count": 104,
   "metadata": {},
   "outputs": [],
   "source": [
    "# разделим пользователей на две группы: А - контрольная группа, B - тестовая группа\n",
    "\n",
    "control = stud_info.query('grp == \"A\" and is_active == 1')\n",
    "test = stud_info.query('grp == \"B\" and is_active == 1')"
   ]
  },
  {
   "cell_type": "markdown",
   "metadata": {},
   "source": [
    "Посмотрим информацию по полученным датафреймам"
   ]
  },
  {
   "cell_type": "code",
   "execution_count": 105,
   "metadata": {},
   "outputs": [
    {
     "name": "stdout",
     "output_type": "stream",
     "text": [
      "<class 'pandas.core.frame.DataFrame'>\n",
      "Int64Index: 1538 entries, 1 to 74558\n",
      "Data columns (total 5 columns):\n",
      " #   Column     Non-Null Count  Dtype  \n",
      "---  ------     --------------  -----  \n",
      " 0   id         1538 non-null   int64  \n",
      " 1   grp        1538 non-null   object \n",
      " 2   is_active  1538 non-null   int64  \n",
      " 3   rev        1538 non-null   float64\n",
      " 4   is_pay     1538 non-null   int64  \n",
      "dtypes: float64(1), int64(3), object(1)\n",
      "memory usage: 72.1+ KB\n"
     ]
    }
   ],
   "source": [
    "control.info()"
   ]
  },
  {
   "cell_type": "code",
   "execution_count": 106,
   "metadata": {
    "scrolled": false
   },
   "outputs": [
    {
     "name": "stdout",
     "output_type": "stream",
     "text": [
      "<class 'pandas.core.frame.DataFrame'>\n",
      "Int64Index: 6803 entries, 10 to 74562\n",
      "Data columns (total 5 columns):\n",
      " #   Column     Non-Null Count  Dtype  \n",
      "---  ------     --------------  -----  \n",
      " 0   id         6803 non-null   int64  \n",
      " 1   grp        6803 non-null   object \n",
      " 2   is_active  6803 non-null   int64  \n",
      " 3   rev        6803 non-null   float64\n",
      " 4   is_pay     6803 non-null   int64  \n",
      "dtypes: float64(1), int64(3), object(1)\n",
      "memory usage: 318.9+ KB\n"
     ]
    }
   ],
   "source": [
    "test.info()"
   ]
  },
  {
   "cell_type": "code",
   "execution_count": 107,
   "metadata": {
    "scrolled": true
   },
   "outputs": [
    {
     "data": {
      "text/plain": [
       "0.05071521456436931"
      ]
     },
     "execution_count": 107,
     "metadata": {},
     "output_type": "execute_result"
    }
   ],
   "source": [
    "# Посчитаем долю посетителей, выполнивших оплату \n",
    "# В контрольной группе:\n",
    "control.is_pay.sum() / control.id.count()"
   ]
  },
  {
   "cell_type": "code",
   "execution_count": 108,
   "metadata": {
    "scrolled": true
   },
   "outputs": [
    {
     "data": {
      "text/plain": [
       "0.046156107599588415"
      ]
     },
     "execution_count": 108,
     "metadata": {},
     "output_type": "execute_result"
    }
   ],
   "source": [
    "# В тестовой группе:\n",
    "test.is_pay.sum() / test.id.count()"
   ]
  },
  {
   "cell_type": "markdown",
   "metadata": {},
   "source": [
    "Таким образом, в контрольной группе оплатили всего 5.1% посетителей, а в тестовой еще меньше - 4.6%"
   ]
  },
  {
   "cell_type": "markdown",
   "metadata": {},
   "source": [
    "---\n",
    "### 1.2.2. Выбор анализируемых метрик.\n",
    "\n",
    "Определим, по каким метрикам оценивать результаты А/Б тестирования.\n",
    "\n",
    "На наш взгляд, изменение механики оплаты услуг (например, уменьшение количества шагов до оплаты, отсутствие дополнительных подтверждений, проведение транзакций без необходимости перехода на сайт банка, и т.д.) может положительно повлиять на простоту и доступность оплаты.\n",
    "\n",
    "В первую очередь, уменьшение трудоемкости оплаты может повлиять на конверсию из посещения сайта в покупку.\n",
    "\n",
    "\n",
    "Во-вторых, можем предположить,что и выручка с покупателей, заходивших на сайт в период эксперимента, изменится. \n",
    "\n",
    "В таблице `checks` содержится уже сгруппированная по покупателям информация о суммах их оплат - можно проанализировать, как изменится выручка с посетителей (ARPU) или с покупателей (ARPPU) в контрольной и тестовой группах. \n",
    "\n",
    "**Проведем проверку гипотез об улучшении трех метрик:**\n",
    "\n",
    "1. **Средняя выручка с посетителя (ARPU)** - проверим гипотезу о том, что посетители в среднем стали платить больше.\n",
    "2. **Средняя выручка с покупателя (ARPPU)** - проверим гипотезу о том, что покупатели в среднем стали платить больше.\n",
    "3. **Конверсия из посещения сайта в покупку (CR)** - оценим отношение количества купивших посетителей к общему количеству активных посетителей - проверим, стали ли более охотно покупать посетители.\n"
   ]
  },
  {
   "cell_type": "markdown",
   "metadata": {},
   "source": [
    "### 1.2.3. EDA и расчет метрик в контрольной и тестовой группах."
   ]
  },
  {
   "cell_type": "markdown",
   "metadata": {},
   "source": [
    "---\n",
    "Посмотрим описательные статистики выручки в группах:"
   ]
  },
  {
   "cell_type": "code",
   "execution_count": 109,
   "metadata": {
    "scrolled": true
   },
   "outputs": [
    {
     "data": {
      "text/plain": [
       "count    1538.000000\n",
       "mean       47.347204\n",
       "std       290.490632\n",
       "min         0.000000\n",
       "25%         0.000000\n",
       "50%         0.000000\n",
       "75%         0.000000\n",
       "max      3660.000000\n",
       "Name: rev, dtype: float64"
      ]
     },
     "execution_count": 109,
     "metadata": {},
     "output_type": "execute_result"
    }
   ],
   "source": [
    "control.rev.describe()"
   ]
  },
  {
   "cell_type": "code",
   "execution_count": 110,
   "metadata": {
    "scrolled": true
   },
   "outputs": [
    {
     "data": {
      "text/plain": [
       "count    6803.000000\n",
       "mean       58.058798\n",
       "std       313.770198\n",
       "min         0.000000\n",
       "25%         0.000000\n",
       "50%         0.000000\n",
       "75%         0.000000\n",
       "max      4650.000000\n",
       "Name: rev, dtype: float64"
      ]
     },
     "execution_count": 110,
     "metadata": {},
     "output_type": "execute_result"
    }
   ],
   "source": [
    "test.rev.describe()"
   ]
  },
  {
   "cell_type": "markdown",
   "metadata": {},
   "source": [
    "Мы видим, что все квартили равны 0. Значит, большая часть значений выручки равна 0.\n",
    "Посмотрим на показатели только заплативших посетителей."
   ]
  },
  {
   "cell_type": "code",
   "execution_count": 111,
   "metadata": {
    "scrolled": true
   },
   "outputs": [
    {
     "data": {
      "text/plain": [
       "count      78.000000\n",
       "mean      933.589744\n",
       "std       919.932711\n",
       "min       199.000000\n",
       "25%       290.000000\n",
       "50%       585.000000\n",
       "75%      1114.750000\n",
       "max      3660.000000\n",
       "Name: rev, dtype: float64"
      ]
     },
     "execution_count": 111,
     "metadata": {},
     "output_type": "execute_result"
    }
   ],
   "source": [
    "control.query('rev > 0').rev.describe()"
   ]
  },
  {
   "cell_type": "code",
   "execution_count": 112,
   "metadata": {},
   "outputs": [
    {
     "data": {
      "text/plain": [
       "count     314.000000\n",
       "mean     1257.878981\n",
       "std       790.864245\n",
       "min       199.000000\n",
       "25%       511.750000\n",
       "50%      1140.000000\n",
       "75%      1900.000000\n",
       "max      4650.000000\n",
       "Name: rev, dtype: float64"
      ]
     },
     "execution_count": 112,
     "metadata": {},
     "output_type": "execute_result"
    }
   ],
   "source": [
    "test.query('rev > 0').rev.describe()"
   ]
  },
  {
   "cell_type": "markdown",
   "metadata": {},
   "source": [
    "**Визуализируем данные.**"
   ]
  },
  {
   "cell_type": "code",
   "execution_count": 113,
   "metadata": {
    "scrolled": true
   },
   "outputs": [
    {
     "data": {
      "image/png": "[encoded data removed]",
      "text/plain": [
       "<Figure size 1080x288 with 2 Axes>"
      ]
     },
     "metadata": {},
     "output_type": "display_data"
    }
   ],
   "source": [
    "# Распределения пользователей и покупателей (заплативших пользователей) контрольной и тестовой выборок\n",
    "fig, axes = plt.subplots(nrows=1, ncols=2, figsize=(15, 4))\n",
    "fig.suptitle('Распределение выручки')\n",
    "\n",
    "sns.histplot(data = stud_info.query('is_active > 0'), x = 'rev', hue='grp', ax=axes[0])\n",
    "axes[0].set_title('с посетителей сайта')\n",
    "\n",
    "sns.histplot(data = stud_info.query('is_active > 0 and rev>0'), x = 'rev', hue='grp', ax=axes[1])\n",
    "axes[1].set_title('с покупателей')\n",
    "\n",
    "plt.show()"
   ]
  },
  {
   "cell_type": "markdown",
   "metadata": {},
   "source": [
    "Распределение выручки по посетителям характеризуется тем, что около 95% наблюдений равны 0.\n",
    "Распределение выручки среди тех, кто купил, больше напоминает экспоненциальное. Следует обратить внимание на моду распределения тестовой группы - большое количество покупателей сделали оплаты в районе 2000, чего не наблюдается в контрольной группе."
   ]
  },
  {
   "cell_type": "code",
   "execution_count": 114,
   "metadata": {
    "scrolled": true
   },
   "outputs": [
    {
     "data": {
      "image/png": "[encoded data removed]",
      "text/plain": [
       "<Figure size 1080x288 with 2 Axes>"
      ]
     },
     "metadata": {},
     "output_type": "display_data"
    }
   ],
   "source": [
    "# Средняя выручка\n",
    "fig, axes = plt.subplots(nrows=1, ncols=2, figsize=(15, 4))\n",
    "fig.suptitle('Средняя выручка')\n",
    "\n",
    "sns.barplot(data=stud_info.sort_values('grp'), y='rev', x='grp', ax=axes[0])\n",
    "axes[0].set_title('ARPU')\n",
    "\n",
    "sns.barplot(data=stud_info.query('rev>0'), y='rev', x='grp', ax=axes[1])\n",
    "axes[1].set_title('ARPPU')\n",
    "\n",
    "plt.show()"
   ]
  },
  {
   "cell_type": "markdown",
   "metadata": {},
   "source": [
    "Видим, что ARPU и ARPPU в тестовой группе выросли. "
   ]
  },
  {
   "cell_type": "code",
   "execution_count": 115,
   "metadata": {
    "scrolled": true
   },
   "outputs": [
    {
     "data": {
      "image/png": "[encoded data removed]",
      "text/plain": [
       "<Figure size 1080x288 with 2 Axes>"
      ]
     },
     "metadata": {},
     "output_type": "display_data"
    }
   ],
   "source": [
    "# боксплоты\n",
    "fig, axes = plt.subplots(nrows=1, ncols=2, figsize=(15, 4))\n",
    "fig.suptitle('Диаграммы размаха')\n",
    "\n",
    "sns.boxplot(data=stud_info.sort_values('grp'), x='grp', y='rev', ax=axes[0])\n",
    "axes[0].set_title('посетители')\n",
    "\n",
    "sns.boxplot(data=stud_info.query('rev > 0'), x='grp', y='rev', ax=axes[1])\n",
    "axes[1].set_title('покупатели')\n",
    "\n",
    "plt.show()"
   ]
  },
  {
   "cell_type": "markdown",
   "metadata": {},
   "source": [
    "Боксплот по посетителям не информативен, что и понятно - ведь все отличающиеся от 0 значения обрабатываются как выбросы.\n",
    "А на боксплоте по покупателям мы видим существенный выброс. Максимальная выручка с покупателя 4650, а с посетителя 3660. \n",
    "\n",
    "Посмотрим, сколько всего оплативших 3500 и более."
   ]
  },
  {
   "cell_type": "code",
   "execution_count": 116,
   "metadata": {},
   "outputs": [
    {
     "data": {
      "text/html": [
       "<div>\n",
       "<style scoped>\n",
       "    .dataframe tbody tr th:only-of-type {\n",
       "        vertical-align: middle;\n",
       "    }\n",
       "\n",
       "    .dataframe tbody tr th {\n",
       "        vertical-align: top;\n",
       "    }\n",
       "\n",
       "    .dataframe thead th {\n",
       "        text-align: right;\n",
       "    }\n",
       "</style>\n",
       "<table border=\"1\" class=\"dataframe\">\n",
       "  <thead>\n",
       "    <tr style=\"text-align: right;\">\n",
       "      <th></th>\n",
       "      <th>id</th>\n",
       "      <th>grp</th>\n",
       "      <th>is_active</th>\n",
       "      <th>rev</th>\n",
       "      <th>is_pay</th>\n",
       "    </tr>\n",
       "  </thead>\n",
       "  <tbody>\n",
       "    <tr>\n",
       "      <th>9916</th>\n",
       "      <td>445767</td>\n",
       "      <td>A</td>\n",
       "      <td>1</td>\n",
       "      <td>3660.0</td>\n",
       "      <td>1</td>\n",
       "    </tr>\n",
       "    <tr>\n",
       "      <th>36243</th>\n",
       "      <td>1624158</td>\n",
       "      <td>A</td>\n",
       "      <td>1</td>\n",
       "      <td>3660.0</td>\n",
       "      <td>1</td>\n",
       "    </tr>\n",
       "    <tr>\n",
       "      <th>44395</th>\n",
       "      <td>2150601</td>\n",
       "      <td>A</td>\n",
       "      <td>1</td>\n",
       "      <td>3660.0</td>\n",
       "      <td>1</td>\n",
       "    </tr>\n",
       "  </tbody>\n",
       "</table>\n",
       "</div>"
      ],
      "text/plain": [
       "            id grp  is_active     rev  is_pay\n",
       "9916    445767   A          1  3660.0       1\n",
       "36243  1624158   A          1  3660.0       1\n",
       "44395  2150601   A          1  3660.0       1"
      ]
     },
     "execution_count": 116,
     "metadata": {},
     "output_type": "execute_result"
    }
   ],
   "source": [
    "control.query('rev >= 3500')"
   ]
  },
  {
   "cell_type": "code",
   "execution_count": 117,
   "metadata": {
    "scrolled": false
   },
   "outputs": [
    {
     "data": {
      "text/html": [
       "<div>\n",
       "<style scoped>\n",
       "    .dataframe tbody tr th:only-of-type {\n",
       "        vertical-align: middle;\n",
       "    }\n",
       "\n",
       "    .dataframe tbody tr th {\n",
       "        vertical-align: top;\n",
       "    }\n",
       "\n",
       "    .dataframe thead th {\n",
       "        text-align: right;\n",
       "    }\n",
       "</style>\n",
       "<table border=\"1\" class=\"dataframe\">\n",
       "  <thead>\n",
       "    <tr style=\"text-align: right;\">\n",
       "      <th></th>\n",
       "      <th>id</th>\n",
       "      <th>grp</th>\n",
       "      <th>is_active</th>\n",
       "      <th>rev</th>\n",
       "      <th>is_pay</th>\n",
       "    </tr>\n",
       "  </thead>\n",
       "  <tbody>\n",
       "    <tr>\n",
       "      <th>17483</th>\n",
       "      <td>829330</td>\n",
       "      <td>B</td>\n",
       "      <td>1</td>\n",
       "      <td>3660.0</td>\n",
       "      <td>1</td>\n",
       "    </tr>\n",
       "    <tr>\n",
       "      <th>38102</th>\n",
       "      <td>1711305</td>\n",
       "      <td>B</td>\n",
       "      <td>1</td>\n",
       "      <td>4650.0</td>\n",
       "      <td>1</td>\n",
       "    </tr>\n",
       "    <tr>\n",
       "      <th>72633</th>\n",
       "      <td>5316551</td>\n",
       "      <td>B</td>\n",
       "      <td>1</td>\n",
       "      <td>3660.0</td>\n",
       "      <td>1</td>\n",
       "    </tr>\n",
       "  </tbody>\n",
       "</table>\n",
       "</div>"
      ],
      "text/plain": [
       "            id grp  is_active     rev  is_pay\n",
       "17483   829330   B          1  3660.0       1\n",
       "38102  1711305   B          1  4650.0       1\n",
       "72633  5316551   B          1  3660.0       1"
      ]
     },
     "execution_count": 117,
     "metadata": {},
     "output_type": "execute_result"
    }
   ],
   "source": [
    "test.query('rev >= 3500')"
   ]
  },
  {
   "cell_type": "markdown",
   "metadata": {},
   "source": [
    "В тестовой группе есть всего один покупатель с оплатой 4650 (id = 1711305). Интересно посмотреть, насколько влияет этот выброс на дисперсию и среднее.\n",
    "\n",
    "Сравним, какими будут характеристики распределения с ним и без него."
   ]
  },
  {
   "cell_type": "code",
   "execution_count": 118,
   "metadata": {},
   "outputs": [
    {
     "data": {
      "text/plain": [
       "count     314.000000\n",
       "mean     1257.878981\n",
       "std       790.864245\n",
       "min       199.000000\n",
       "25%       511.750000\n",
       "50%      1140.000000\n",
       "75%      1900.000000\n",
       "max      4650.000000\n",
       "Name: rev, dtype: float64"
      ]
     },
     "execution_count": 118,
     "metadata": {},
     "output_type": "execute_result"
    }
   ],
   "source": [
    "test.query('rev > 0').rev.describe()"
   ]
  },
  {
   "cell_type": "code",
   "execution_count": 119,
   "metadata": {
    "scrolled": false
   },
   "outputs": [
    {
     "data": {
      "text/plain": [
       "count     313.000000\n",
       "mean     1247.041534\n",
       "std       768.422649\n",
       "min       199.000000\n",
       "25%       489.000000\n",
       "50%      1140.000000\n",
       "75%      1900.000000\n",
       "max      3660.000000\n",
       "Name: rev, dtype: float64"
      ]
     },
     "execution_count": 119,
     "metadata": {},
     "output_type": "execute_result"
    }
   ],
   "source": [
    "test.query('rev > 0 and id != 1711305').rev.describe()"
   ]
  },
  {
   "cell_type": "code",
   "execution_count": 120,
   "metadata": {
    "scrolled": true
   },
   "outputs": [
    {
     "data": {
      "text/plain": [
       "<matplotlib.axes._subplots.AxesSubplot at 0x7f6c83895898>"
      ]
     },
     "execution_count": 120,
     "metadata": {},
     "output_type": "execute_result"
    },
    {
     "data": {
      "image/png": "[encoded data removed]",
      "text/plain": [
       "<Figure size 576x288 with 1 Axes>"
      ]
     },
     "metadata": {},
     "output_type": "display_data"
    }
   ],
   "source": [
    "sns.barplot(data=stud_info.query('rev>0 and id != 1711305'), y='rev', x='grp')"
   ]
  },
  {
   "cell_type": "code",
   "execution_count": 121,
   "metadata": {
    "scrolled": false
   },
   "outputs": [
    {
     "data": {
      "text/plain": [
       "<matplotlib.axes._subplots.AxesSubplot at 0x7f6c83a60320>"
      ]
     },
     "execution_count": 121,
     "metadata": {},
     "output_type": "execute_result"
    },
    {
     "data": {
      "image/png": "[encoded data removed]",
      "text/plain": [
       "<Figure size 576x288 with 1 Axes>"
      ]
     },
     "metadata": {},
     "output_type": "display_data"
    }
   ],
   "source": [
    "sns.boxplot(data=stud_info.query('rev > 0 and id != 1711305'), x='grp', y='rev')"
   ]
  },
  {
   "cell_type": "markdown",
   "metadata": {},
   "source": [
    "Медиана не изменилась (ожидаемо), среднее значение уменьшилось на 10, стандартное отклонение тоже уменьшилось (с 790 до 768). Коэффициент вариации (std/mean) снизился с 0.63 до 0.62. Влияние кажется не значительным, оставим всех пользователей в выборках."
   ]
  },
  {
   "cell_type": "markdown",
   "metadata": {},
   "source": [
    "---\n",
    "**Посчитаем метрики**"
   ]
  },
  {
   "cell_type": "code",
   "execution_count": 122,
   "metadata": {},
   "outputs": [],
   "source": [
    "arpu_c = round(control.rev.sum() / control.id.count(), 2)\n",
    "arpu_t = round(test.rev.sum() / test.id.count(), 2)"
   ]
  },
  {
   "cell_type": "code",
   "execution_count": 123,
   "metadata": {},
   "outputs": [],
   "source": [
    "arppu_c = round(control.rev.sum() / control.is_pay.sum(), 2)\n",
    "arppu_t = round(test.rev.sum() / test.is_pay.sum(), 2)"
   ]
  },
  {
   "cell_type": "code",
   "execution_count": 124,
   "metadata": {},
   "outputs": [],
   "source": [
    "# конверсия в контрольной группе:\n",
    "cr_c = 100*control.is_pay.mean()\n",
    "# конверсия в тестовой группе:\n",
    "cr_t = 100*test.is_pay.mean()"
   ]
  },
  {
   "cell_type": "markdown",
   "metadata": {},
   "source": [
    "Для сравнения выведем метрики."
   ]
  },
  {
   "cell_type": "code",
   "execution_count": 125,
   "metadata": {
    "scrolled": true
   },
   "outputs": [
    {
     "name": "stdout",
     "output_type": "stream",
     "text": [
      "\n",
      "ARPU контрольной группы: 47.35\n",
      "ARPU тестовой группы:    58.06\n",
      "\n",
      "ARPPU контрольной группы: 933.59\n",
      "ARPPU тестовой группы:    1257.88\n",
      "\n",
      "\n",
      "Конверсия в контрольной группе: 5.07%\n",
      "Конверсия в тестовой группе:    4.62%\n",
      "\n"
     ]
    }
   ],
   "source": [
    "print(f'''\n",
    "ARPU контрольной группы: {arpu_c}\n",
    "ARPU тестовой группы:    {arpu_t}\n",
    "\n",
    "ARPPU контрольной группы: {arppu_c}\n",
    "ARPPU тестовой группы:    {arppu_t}\n",
    "''')\n",
    "print(f'''\n",
    "Конверсия в контрольной группе: {cr_c:.2f}%\n",
    "Конверсия в тестовой группе:    {cr_t:.2f}%\n",
    "''')"
   ]
  },
  {
   "cell_type": "markdown",
   "metadata": {},
   "source": [
    "Видим, чтоARPU и ARPPU у тестовой группы больше, а конверсия - наоборот - меньше."
   ]
  },
  {
   "cell_type": "markdown",
   "metadata": {},
   "source": [
    "---\n",
    "## 1.3. Проверка гипотез.\n",
    "\n",
    "### 1.3.1. Выбор метода проверки для анализируемых метрик.\n",
    "\n",
    "**1. Выбираем метод проверки гипотез о средней выручке (ARPU, ARPPU).**\n",
    "\n",
    "Видно, что распределения выручки не являются нормальными. Кроме того, распределения имеют очень высокую вариативность.\n",
    "\n",
    "При таком распределении использовать t-test не самый надежный вариант. Можно воспользоваться непараметрическим тестом Манна-Уитни или использовать bootstrap.\n",
    "\n",
    "Остановимся на втором варианте - **применим bootstrap** для контрольной и тестовой выборок значений выручки, проверять будем среднее значение.\n",
    "\n",
    "**2. Выбираем метод проверки гипотезы о конверсии.**\n",
    "\n",
    "Поскольку мы имеем дело с категориальной переменной, для проверки статзначимости отличий конверсии можно воспользоваться критерием согласия Пирсона. Для проверки также можно использовать t-тест, так как если мы возьмем выборку из 0 и 1 (т.е. не купил или купил), то оценка среднего из такой выборки как раз и является конверсией.\n",
    "**Применим для проверки конверсии t-тест.**\n"
   ]
  },
  {
   "cell_type": "markdown",
   "metadata": {},
   "source": [
    "---\n",
    "\n",
    "### 1.3.2. Выполнение расчетов.\n",
    "\n",
    "### Оценка ARPU и ARPPU.\n",
    "\n",
    "Oценим 95% доверительные интервалы для средних значений в контрольной и тестовой группах с помощью bootstrap. Если они пересекутся - то это будет говорить в пользу нулевой гипотезы (различия, вполне возможно, не статзначимы). Если доверительные интервалы не пересекутся - то различия скорее статистически значимы.\n"
   ]
  },
  {
   "cell_type": "code",
   "execution_count": 126,
   "metadata": {},
   "outputs": [],
   "source": [
    "# ARPU bootstrap\n",
    "arpu_c_res = sps.bootstrap((control.rev,), np.mean)\n",
    "arpu_t_res = sps.bootstrap((test.rev,), np.mean)"
   ]
  },
  {
   "cell_type": "code",
   "execution_count": 127,
   "metadata": {},
   "outputs": [],
   "source": [
    "# ARPPU bootstrap\n",
    "arppu_c_res = sps.bootstrap((control.query('rev > 0').rev,), np.mean)\n",
    "arppu_t_res = sps.bootstrap((test.query('rev > 0').rev,), np.mean)"
   ]
  },
  {
   "cell_type": "code",
   "execution_count": 132,
   "metadata": {},
   "outputs": [
    {
     "name": "stdout",
     "output_type": "stream",
     "text": [
      "\n",
      "\n",
      "Доверительные интервалы ARPU:\n",
      "    Контрольная группа: ConfidenceInterval(low=34.934375416246766, high=64.73890899984303);\n",
      "    Тестовая группа   : ConfidenceInterval(low=51.15239979053985, high=65.79769504514624);\n",
      "Доверительные интервалы ARPPU:\n",
      "    Контрольная группа: ConfidenceInterval(low=758.4886677697646, high=1166.2942350873222);\n",
      "    Тестовая группа   : ConfidenceInterval(low=1171.3059817523867, high=1347.7261146496814).    \n",
      "\n"
     ]
    }
   ],
   "source": [
    "# Посмотрим, чему равны доверительные интервалы\n",
    "print(f'''\n",
    "\n",
    "Доверительные интервалы ARPU:\n",
    "    Контрольная группа: {arpu_c_res.confidence_interval};\n",
    "    Тестовая группа   : {arpu_t_res.confidence_interval};\n",
    "Доверительные интервалы ARPPU:\n",
    "    Контрольная группа: {arppu_c_res.confidence_interval};\n",
    "    Тестовая группа   : {arppu_t_res.confidence_interval}.    \n",
    "''')\n"
   ]
  },
  {
   "cell_type": "markdown",
   "metadata": {},
   "source": [
    "Проверим, пересекаются ли доверительные интервалы средних, рассчитанные с помощью bootstrap."
   ]
  },
  {
   "cell_type": "code",
   "execution_count": 128,
   "metadata": {},
   "outputs": [],
   "source": [
    "# для улучшения читаемости кода напишем простую функцию, которая проверяет, пересекаются ли интервалы\n",
    "def intersect_checker (res_c, res_t, metric_name='Название метрики'):\n",
    "    c = res_c.confidence_interval\n",
    "    t = res_t.confidence_interval\n",
    "    print(f'Проверка метрики {metric_name}')\n",
    "    if (c.high > t.low and c.high < t.high) or (c.low < t.high and c.low > t.low):\n",
    "        print('доверительные интервалы пересекаются')\n",
    "    else:\n",
    "        print('доверительные интервалы не пересекаются')"
   ]
  },
  {
   "cell_type": "code",
   "execution_count": 129,
   "metadata": {},
   "outputs": [
    {
     "name": "stdout",
     "output_type": "stream",
     "text": [
      "Проверка метрики arpu\n",
      "доверительные интервалы пересекаются\n"
     ]
    }
   ],
   "source": [
    "# ARPU\n",
    "intersect_checker(arpu_c_res, arpu_t_res, 'arpu')"
   ]
  },
  {
   "cell_type": "code",
   "execution_count": 130,
   "metadata": {},
   "outputs": [
    {
     "name": "stdout",
     "output_type": "stream",
     "text": [
      "Проверка метрики arppu\n",
      "доверительные интервалы не пересекаются\n"
     ]
    }
   ],
   "source": [
    "# ARPPU\n",
    "intersect_checker(arppu_c_res, arppu_t_res, 'arppu')"
   ]
  },
  {
   "cell_type": "markdown",
   "metadata": {},
   "source": [
    "---\n",
    "### Оценка конверсии."
   ]
  },
  {
   "cell_type": "markdown",
   "metadata": {},
   "source": [
    "Используем t-тест: мы можем провести оценку среднего по колонке `is_pay` (т.е. как раз конверсии) в двух группах.\n",
    "\n",
    "Нулевая гипотеза - расхождение между конверсиями контрольной и тестовой групп случайны, и не имеют статистической значимости.\n",
    "\n",
    "Альтернативная гипотеза - данное расхождение статистически значимо, и вызвано в том числе новой механикой оплаты."
   ]
  },
  {
   "cell_type": "code",
   "execution_count": 133,
   "metadata": {},
   "outputs": [
    {
     "name": "stdout",
     "output_type": "stream",
     "text": [
      "Оценка конверсии: p_value = 0.445530545137386\n"
     ]
    }
   ],
   "source": [
    "result_cr = sps.ttest_ind(control.is_pay, test.is_pay)\n",
    "print(f'Оценка конверсии: p_value = {result_cr.pvalue}')"
   ]
  },
  {
   "cell_type": "markdown",
   "metadata": {},
   "source": [
    "Поскольку значение p-value больше 0.05 (причем значительно), можно довольно уверенно отвергнуть альтернативную гипотезу в пользу нулевой."
   ]
  },
  {
   "cell_type": "markdown",
   "metadata": {},
   "source": [
    "---\n",
    "Также в качестве дополнительного варианта применим для проверки гипотез критерий согласия Пирсона (хи-квадрат).\n",
    "Нулевая гипотеза - предположение, что количество оплативших пользователей в группе не зависит от того, какая механика оплаты реализована.\n",
    "Альтернативная гипотеза заключается в том, что количество оплативших пользователей в группе все же зависит от механики оплаты."
   ]
  },
  {
   "cell_type": "code",
   "execution_count": 137,
   "metadata": {
    "scrolled": true
   },
   "outputs": [
    {
     "data": {
      "text/html": [
       "<div>\n",
       "<style scoped>\n",
       "    .dataframe tbody tr th:only-of-type {\n",
       "        vertical-align: middle;\n",
       "    }\n",
       "\n",
       "    .dataframe tbody tr th {\n",
       "        vertical-align: top;\n",
       "    }\n",
       "\n",
       "    .dataframe thead th {\n",
       "        text-align: right;\n",
       "    }\n",
       "</style>\n",
       "<table border=\"1\" class=\"dataframe\">\n",
       "  <thead>\n",
       "    <tr style=\"text-align: right;\">\n",
       "      <th>is_pay</th>\n",
       "      <th>0</th>\n",
       "      <th>1</th>\n",
       "    </tr>\n",
       "    <tr>\n",
       "      <th>grp</th>\n",
       "      <th></th>\n",
       "      <th></th>\n",
       "    </tr>\n",
       "  </thead>\n",
       "  <tbody>\n",
       "    <tr>\n",
       "      <th>A</th>\n",
       "      <td>1460</td>\n",
       "      <td>78</td>\n",
       "    </tr>\n",
       "    <tr>\n",
       "      <th>B</th>\n",
       "      <td>6489</td>\n",
       "      <td>314</td>\n",
       "    </tr>\n",
       "  </tbody>\n",
       "</table>\n",
       "</div>"
      ],
      "text/plain": [
       "is_pay     0    1\n",
       "grp              \n",
       "A       1460   78\n",
       "B       6489  314"
      ]
     },
     "execution_count": 137,
     "metadata": {},
     "output_type": "execute_result"
    }
   ],
   "source": [
    "#сформируем таблицу сопряженности:\n",
    "tab = pd.crosstab(stud_info.query('is_active==1').grp, stud_info.is_pay)\n",
    "tab"
   ]
  },
  {
   "cell_type": "code",
   "execution_count": 138,
   "metadata": {
    "scrolled": true
   },
   "outputs": [
    {
     "data": {
      "text/plain": [
       "(0.48480826522557896,\n",
       " 0.48625240457231045,\n",
       " 1,\n",
       " array([[1465.71897854,   72.28102146],\n",
       "        [6483.28102146,  319.71897854]]))"
      ]
     },
     "execution_count": 138,
     "metadata": {},
     "output_type": "execute_result"
    }
   ],
   "source": [
    "res_chisquare=sps.chi2_contingency(tab)\n",
    "# print(f'p_value= {res_chisquare[1]}')\n",
    "res_chisquare"
   ]
  },
  {
   "cell_type": "markdown",
   "metadata": {},
   "source": [
    "При расчете данного теста мы также получили значение p-value существенно больше 0.05, что также подтверждает высокую вероятность того, что расхождение конверсии в контрольной и тестовой группах случайно и не вызвано влиянием механики оплаты услуг."
   ]
  },
  {
   "cell_type": "markdown",
   "metadata": {},
   "source": [
    "---\n",
    "# 1.4. Результаты исследования."
   ]
  },
  {
   "cell_type": "markdown",
   "metadata": {},
   "source": [
    "Проанализируем полученные результаты.\n",
    "\n",
    "**ARPU**\n"
   ]
  },
  {
   "cell_type": "code",
   "execution_count": 140,
   "metadata": {},
   "outputs": [
    {
     "data": {
      "text/plain": [
       "22.62"
      ]
     },
     "execution_count": 140,
     "metadata": {},
     "output_type": "execute_result"
    }
   ],
   "source": [
    "# Средняя выручка с посетителей в тестовой группе, изменения в %\n",
    "growth = round(100*(arpu_t-arpu_c) / arpu_c, 2)\n",
    "growth"
   ]
  },
  {
   "cell_type": "markdown",
   "metadata": {},
   "source": [
    "Довольно существенный рост. Однако проверка расхождений говорит о том, что гипотеза о статистической значимости отличий не подтверждается: доверительные интервалы средних в контрольной группе пересекаются.\n",
    "Высока вероятность того, что различия вызваны случайными факторами и наша новая механика оплаты существенно не повлияла на ARPU."
   ]
  },
  {
   "cell_type": "markdown",
   "metadata": {},
   "source": [
    "**ARPPU**"
   ]
  },
  {
   "cell_type": "code",
   "execution_count": 153,
   "metadata": {},
   "outputs": [
    {
     "data": {
      "text/plain": [
       "34.74"
      ]
     },
     "execution_count": 153,
     "metadata": {},
     "output_type": "execute_result"
    }
   ],
   "source": [
    "# Средняя выручка с посетителей в тестовой группе, изменения в %\n",
    "growth2 = round(100*(arppu_t-arppu_c) / arppu_c, 2)\n",
    "growth2"
   ]
  },
  {
   "cell_type": "markdown",
   "metadata": {},
   "source": [
    "Тут относительный прирост еще выше. Доверительные интервалы, рассчитанные с помощью bootstrap, не пересекаются.\n",
    "Но нижняя граница интервала тестовой группы и верхняя граница контрольной группы очень близко друг к другу.\n",
    "\n",
    "Попробуем еще раз оценить arppu, на этот раз не учитывая выброс rev=4650 в тестовой группе."
   ]
  },
  {
   "cell_type": "code",
   "execution_count": 154,
   "metadata": {},
   "outputs": [],
   "source": [
    "arppu_t2_res = sps.bootstrap((test.query('0 < rev < 4600').rev,), np.mean)"
   ]
  },
  {
   "cell_type": "code",
   "execution_count": 155,
   "metadata": {},
   "outputs": [
    {
     "data": {
      "text/plain": [
       "ConfidenceInterval(low=1163.5038920987888, high=1332.4445938760007)"
      ]
     },
     "execution_count": 155,
     "metadata": {},
     "output_type": "execute_result"
    }
   ],
   "source": [
    "arppu_t2_res.confidence_interval"
   ]
  },
  {
   "cell_type": "code",
   "execution_count": 156,
   "metadata": {
    "scrolled": false
   },
   "outputs": [
    {
     "name": "stdout",
     "output_type": "stream",
     "text": [
      "Проверка метрики arppu_filt\n",
      "доверительные интервалы пересекаются\n"
     ]
    }
   ],
   "source": [
    "intersect_checker(arppu_c_res, arppu_t2_res, 'arppu_filt')"
   ]
  },
  {
   "cell_type": "markdown",
   "metadata": {},
   "source": [
    "Выброс, таким образом, меняет результат в противоположную сторону. Делать однозначный вывод о статистической значимости отличий ARPPU я бы не стал. \n",
    "\n",
    "Попробуем посмотреть, какой результат покажет t-тест"
   ]
  },
  {
   "cell_type": "code",
   "execution_count": 157,
   "metadata": {},
   "outputs": [
    {
     "data": {
      "text/plain": [
       "Ttest_indResult(statistic=-3.133779424369783, pvalue=0.0018562030244934635)"
      ]
     },
     "execution_count": 157,
     "metadata": {},
     "output_type": "execute_result"
    }
   ],
   "source": [
    "sps.ttest_ind(control.query('rev>0').rev, test.query('rev>0').rev)"
   ]
  },
  {
   "cell_type": "code",
   "execution_count": 158,
   "metadata": {},
   "outputs": [
    {
     "data": {
      "text/plain": [
       "Ttest_indResult(statistic=-3.093401523757841, pvalue=0.002121631487105392)"
      ]
     },
     "execution_count": 158,
     "metadata": {},
     "output_type": "execute_result"
    }
   ],
   "source": [
    "# без значения rev=4650\n",
    "sps.ttest_ind(control.query('rev>0').rev, test.query('0 < rev < 4600').rev)"
   ]
  },
  {
   "cell_type": "markdown",
   "metadata": {},
   "source": [
    "Как видим, т-тест дает в обоих случаях pvalue меньше, чем 0.05 - что может служить основанием для вывода о справедливости альтернативной гипотезы.\n",
    "\n",
    "К сожалению, мне пока не хватает опыта и знаний, чтобы уверенно ответить на вопрос - а можно ли в случае ARPPU принять альтернативную гипотезу? Появляется множество вопросов - а какой из тестов имеет бОльшую мощность? Можно ли использовать t-тест на выборках с не нормальным распределением (и если можно, то какого размера должна быть такая выборка) и т.д.\n",
    "\n",
    "Поэтому я бы сделал вывод, что нужны дополнительные данные, а также попробовал посмотреть, как собирались данные и какова природа больших оплат - можно ли как-то поработать с выбросами на этапе сбора данных и т.п. "
   ]
  },
  {
   "cell_type": "markdown",
   "metadata": {},
   "source": [
    "**Конверсия**\n",
    "\n",
    "t-тест показал, что отличия в конверсии в двух группах, скорее всего, не имеют статистической значимости; проведенный расчет критерия Пирсона подтвердил это.\n",
    "\n",
    "Поэтому по конверсии сделаем вывод - введение новой механики оплаты услуг с большой вероятностью не повлияло на конверсию из посетителя в покупателя."
   ]
  },
  {
   "cell_type": "markdown",
   "metadata": {},
   "source": [
    "---\n",
    "\n",
    "Задания 2 и 3 находятся в отдельных файлах\n",
    "v2_task2.ipynb\n",
    "v2_task3.ipynb"
   ]
  }
 ],
 "metadata": {
  "kernelspec": {
   "display_name": "Python 3",
   "language": "python",
   "name": "python3"
  },
  "language_info": {
   "codemirror_mode": {
    "name": "ipython",
    "version": 3
   },
   "file_extension": ".py",
   "mimetype": "text/x-python",
   "name": "python",
   "nbconvert_exporter": "python",
   "pygments_lexer": "ipython3",
   "version": "3.7.3"
  }
 },
 "nbformat": 4,
 "nbformat_minor": 4
}
